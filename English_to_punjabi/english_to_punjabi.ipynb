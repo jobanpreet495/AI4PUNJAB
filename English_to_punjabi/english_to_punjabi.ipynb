{
 "cells": [
  {
   "cell_type": "code",
   "execution_count": 2,
   "metadata": {
    "id": "Z-wh-gGsN6hZ"
   },
   "outputs": [],
   "source": [
    "# importing libraries\n",
    "import numpy as np\n",
    "import pandas as pd\n",
    "import os\n",
    "import re\n",
    "import random\n",
    "import sklearn\n",
    "import copy\n",
    "\n",
    "# For Splitting the data into training and testing\n",
    "from sklearn.model_selection import train_test_split\n",
    "\n",
    "# For Plotting data\n",
    "import matplotlib.pyplot as plt\n",
    "import seaborn as sns\n",
    "\n",
    "# Importing natural lenguage toolkit\n",
    "import nltk\n",
    "\n",
    "# Tensorflow and keras to run the model on.\n",
    "import tensorflow as tf\n",
    "from tensorflow import keras"
   ]
  },
  {
   "cell_type": "code",
   "execution_count": 1,
   "metadata": {
    "colab": {
     "base_uri": "https://localhost:8080/"
    },
    "id": "OViHZtPVf-jr",
    "outputId": "dd69ee30-f865-47b0-ed34-7776f24015ab"
   },
   "outputs": [
    {
     "name": "stdout",
     "output_type": "stream",
     "text": [
      "Mounted at /content/drive\n"
     ]
    }
   ],
   "source": [
    "from google.colab import drive\n",
    "drive.mount('/content/drive')"
   ]
  },
  {
   "cell_type": "markdown",
   "metadata": {
    "id": "hN7AmQq-OiRY"
   },
   "source": [
    "## Importing Dataset"
   ]
  },
  {
   "cell_type": "code",
   "execution_count": 3,
   "metadata": {
    "id": "TPc4XzIeOi8M"
   },
   "outputs": [],
   "source": [
    "df=pd.read_csv(\"/content/drive/MyDrive/transliteration.csv\")"
   ]
  },
  {
   "cell_type": "code",
   "execution_count": 4,
   "metadata": {
    "colab": {
     "base_uri": "https://localhost:8080/",
     "height": 206
    },
    "id": "_CLVDbaTOqp-",
    "outputId": "5f30e3ec-1033-49bd-f88c-6c1037c202d3"
   },
   "outputs": [
    {
     "data": {
      "text/html": [
       "\n",
       "  <div id=\"df-82537ad9-4446-42dd-b75a-fb01fad6f30d\">\n",
       "    <div class=\"colab-df-container\">\n",
       "      <div>\n",
       "<style scoped>\n",
       "    .dataframe tbody tr th:only-of-type {\n",
       "        vertical-align: middle;\n",
       "    }\n",
       "\n",
       "    .dataframe tbody tr th {\n",
       "        vertical-align: top;\n",
       "    }\n",
       "\n",
       "    .dataframe thead th {\n",
       "        text-align: right;\n",
       "    }\n",
       "</style>\n",
       "<table border=\"1\" class=\"dataframe\">\n",
       "  <thead>\n",
       "    <tr style=\"text-align: right;\">\n",
       "      <th></th>\n",
       "      <th>Punjabi</th>\n",
       "      <th>English</th>\n",
       "    </tr>\n",
       "  </thead>\n",
       "  <tbody>\n",
       "    <tr>\n",
       "      <th>0</th>\n",
       "      <td>ਅੱਜਕੱਲ੍ਹ</td>\n",
       "      <td>ajjkallh</td>\n",
       "    </tr>\n",
       "    <tr>\n",
       "      <th>1</th>\n",
       "      <td>ਕੁੱਕਰੀ</td>\n",
       "      <td>kookerii</td>\n",
       "    </tr>\n",
       "    <tr>\n",
       "      <th>2</th>\n",
       "      <td>ਧਮਨੀਆਂ</td>\n",
       "      <td>dhamniyan</td>\n",
       "    </tr>\n",
       "    <tr>\n",
       "      <th>3</th>\n",
       "      <td>ਖ਼ੁਦਗ਼ਰਜ਼ੀ</td>\n",
       "      <td>khudgarzi</td>\n",
       "    </tr>\n",
       "    <tr>\n",
       "      <th>4</th>\n",
       "      <td>ਅਗਲੇਰਾ</td>\n",
       "      <td>aglera</td>\n",
       "    </tr>\n",
       "  </tbody>\n",
       "</table>\n",
       "</div>\n",
       "      <button class=\"colab-df-convert\" onclick=\"convertToInteractive('df-82537ad9-4446-42dd-b75a-fb01fad6f30d')\"\n",
       "              title=\"Convert this dataframe to an interactive table.\"\n",
       "              style=\"display:none;\">\n",
       "        \n",
       "  <svg xmlns=\"http://www.w3.org/2000/svg\" height=\"24px\"viewBox=\"0 0 24 24\"\n",
       "       width=\"24px\">\n",
       "    <path d=\"M0 0h24v24H0V0z\" fill=\"none\"/>\n",
       "    <path d=\"M18.56 5.44l.94 2.06.94-2.06 2.06-.94-2.06-.94-.94-2.06-.94 2.06-2.06.94zm-11 1L8.5 8.5l.94-2.06 2.06-.94-2.06-.94L8.5 2.5l-.94 2.06-2.06.94zm10 10l.94 2.06.94-2.06 2.06-.94-2.06-.94-.94-2.06-.94 2.06-2.06.94z\"/><path d=\"M17.41 7.96l-1.37-1.37c-.4-.4-.92-.59-1.43-.59-.52 0-1.04.2-1.43.59L10.3 9.45l-7.72 7.72c-.78.78-.78 2.05 0 2.83L4 21.41c.39.39.9.59 1.41.59.51 0 1.02-.2 1.41-.59l7.78-7.78 2.81-2.81c.8-.78.8-2.07 0-2.86zM5.41 20L4 18.59l7.72-7.72 1.47 1.35L5.41 20z\"/>\n",
       "  </svg>\n",
       "      </button>\n",
       "      \n",
       "  <style>\n",
       "    .colab-df-container {\n",
       "      display:flex;\n",
       "      flex-wrap:wrap;\n",
       "      gap: 12px;\n",
       "    }\n",
       "\n",
       "    .colab-df-convert {\n",
       "      background-color: #E8F0FE;\n",
       "      border: none;\n",
       "      border-radius: 50%;\n",
       "      cursor: pointer;\n",
       "      display: none;\n",
       "      fill: #1967D2;\n",
       "      height: 32px;\n",
       "      padding: 0 0 0 0;\n",
       "      width: 32px;\n",
       "    }\n",
       "\n",
       "    .colab-df-convert:hover {\n",
       "      background-color: #E2EBFA;\n",
       "      box-shadow: 0px 1px 2px rgba(60, 64, 67, 0.3), 0px 1px 3px 1px rgba(60, 64, 67, 0.15);\n",
       "      fill: #174EA6;\n",
       "    }\n",
       "\n",
       "    [theme=dark] .colab-df-convert {\n",
       "      background-color: #3B4455;\n",
       "      fill: #D2E3FC;\n",
       "    }\n",
       "\n",
       "    [theme=dark] .colab-df-convert:hover {\n",
       "      background-color: #434B5C;\n",
       "      box-shadow: 0px 1px 3px 1px rgba(0, 0, 0, 0.15);\n",
       "      filter: drop-shadow(0px 1px 2px rgba(0, 0, 0, 0.3));\n",
       "      fill: #FFFFFF;\n",
       "    }\n",
       "  </style>\n",
       "\n",
       "      <script>\n",
       "        const buttonEl =\n",
       "          document.querySelector('#df-82537ad9-4446-42dd-b75a-fb01fad6f30d button.colab-df-convert');\n",
       "        buttonEl.style.display =\n",
       "          google.colab.kernel.accessAllowed ? 'block' : 'none';\n",
       "\n",
       "        async function convertToInteractive(key) {\n",
       "          const element = document.querySelector('#df-82537ad9-4446-42dd-b75a-fb01fad6f30d');\n",
       "          const dataTable =\n",
       "            await google.colab.kernel.invokeFunction('convertToInteractive',\n",
       "                                                     [key], {});\n",
       "          if (!dataTable) return;\n",
       "\n",
       "          const docLinkHtml = 'Like what you see? Visit the ' +\n",
       "            '<a target=\"_blank\" href=https://colab.research.google.com/notebooks/data_table.ipynb>data table notebook</a>'\n",
       "            + ' to learn more about interactive tables.';\n",
       "          element.innerHTML = '';\n",
       "          dataTable['output_type'] = 'display_data';\n",
       "          await google.colab.output.renderOutput(dataTable, element);\n",
       "          const docLink = document.createElement('div');\n",
       "          docLink.innerHTML = docLinkHtml;\n",
       "          element.appendChild(docLink);\n",
       "        }\n",
       "      </script>\n",
       "    </div>\n",
       "  </div>\n",
       "  "
      ],
      "text/plain": [
       "      Punjabi    English\n",
       "0    ਅੱਜਕੱਲ੍ਹ   ajjkallh\n",
       "1      ਕੁੱਕਰੀ   kookerii\n",
       "2      ਧਮਨੀਆਂ  dhamniyan\n",
       "3  ਖ਼ੁਦਗ਼ਰਜ਼ੀ  khudgarzi\n",
       "4      ਅਗਲੇਰਾ     aglera"
      ]
     },
     "execution_count": 4,
     "metadata": {},
     "output_type": "execute_result"
    }
   ],
   "source": [
    "df.head() # check first five rows"
   ]
  },
  {
   "cell_type": "code",
   "execution_count": 5,
   "metadata": {
    "colab": {
     "base_uri": "https://localhost:8080/"
    },
    "id": "Xq1B-z7JOtDh",
    "outputId": "3a3d02e4-1cb7-46ea-f082-1e3e15ea65cb"
   },
   "outputs": [
    {
     "data": {
      "text/plain": [
       "(514724, 2)"
      ]
     },
     "execution_count": 5,
     "metadata": {},
     "output_type": "execute_result"
    }
   ],
   "source": [
    "df.shape # check number of rows and columns"
   ]
  },
  {
   "cell_type": "code",
   "execution_count": 6,
   "metadata": {
    "colab": {
     "base_uri": "https://localhost:8080/"
    },
    "id": "1xWCj41YOznt",
    "outputId": "e36aace2-56a5-473b-af53-374cd170106a"
   },
   "outputs": [
    {
     "data": {
      "text/plain": [
       "Punjabi    0\n",
       "English    2\n",
       "dtype: int64"
      ]
     },
     "execution_count": 6,
     "metadata": {},
     "output_type": "execute_result"
    }
   ],
   "source": [
    "df.isnull().sum() # check missing values"
   ]
  },
  {
   "cell_type": "code",
   "execution_count": 7,
   "metadata": {
    "id": "e0UDTHZqO4g6"
   },
   "outputs": [],
   "source": [
    "df.dropna(inplace=True) # droping null values"
   ]
  },
  {
   "cell_type": "code",
   "execution_count": 8,
   "metadata": {
    "id": "t_kPnbnIPKZz"
   },
   "outputs": [],
   "source": [
    "X = df['English']\n",
    "y = df['Punjabi']"
   ]
  },
  {
   "cell_type": "code",
   "execution_count": 9,
   "metadata": {
    "id": "YOqwaay_PcIp"
   },
   "outputs": [],
   "source": [
    "final_english_words= X.apply(lambda x: '@' + x.strip() + '#')\n",
    "final_punjabi_words= y.apply(lambda x: '@' + x.strip() + '#')"
   ]
  },
  {
   "cell_type": "code",
   "execution_count": 10,
   "metadata": {
    "id": "QcLJvEIqQH9F"
   },
   "outputs": [],
   "source": [
    "final_english_words=list(final_english_words)\n",
    "final_punjabi_words=list(final_punjabi_words)"
   ]
  },
  {
   "cell_type": "code",
   "execution_count": 11,
   "metadata": {
    "colab": {
     "base_uri": "https://localhost:8080/"
    },
    "id": "akivSgfVQtyw",
    "outputId": "f6a42c97-231c-43ae-92d3-65949237499f"
   },
   "outputs": [
    {
     "data": {
      "text/plain": [
       "('@lahor#', '@ਲਹੌਰ#')"
      ]
     },
     "execution_count": 11,
     "metadata": {},
     "output_type": "execute_result"
    }
   ],
   "source": [
    "(final_english_words[11],final_punjabi_words[11])"
   ]
  },
  {
   "cell_type": "code",
   "execution_count": 12,
   "metadata": {
    "colab": {
     "base_uri": "https://localhost:8080/"
    },
    "id": "al0nlfSXQ6xK",
    "outputId": "b97d5e41-dc93-43fc-f68e-101e21506488"
   },
   "outputs": [
    {
     "data": {
      "text/plain": [
       "(514722, 514722)"
      ]
     },
     "execution_count": 12,
     "metadata": {},
     "output_type": "execute_result"
    }
   ],
   "source": [
    "len(final_english_words),len(final_punjabi_words)"
   ]
  },
  {
   "cell_type": "markdown",
   "metadata": {
    "id": "zFMKf-UMRnYI"
   },
   "source": [
    "### In any NLP task First Step is to Create the vocab of the words, so First we will Create the dictonaries like ```vocab_to_index``` and ```index_to_vocab``` for both the languages ```punjabi``` and ```english``` they are known as ```lookup_tables```"
   ]
  },
  {
   "cell_type": "code",
   "execution_count": 13,
   "metadata": {
    "id": "2VCZf-akRRth"
   },
   "outputs": [],
   "source": [
    "class Word2Index():\n",
    "  def __init__(self, lang):\n",
    "    self.lang = lang\n",
    "    self.word2idx = {}\n",
    "    self.idx2word = {}\n",
    "    self.vocab = set()\n",
    "    \n",
    "    self.create_index()\n",
    "    \n",
    "  def create_index(self):\n",
    "    for phrase in self.lang:\n",
    "      for l in phrase:\n",
    "        self.vocab.update(l)\n",
    "    \n",
    "    self.vocab = sorted(self.vocab)\n",
    "    \n",
    "    self.word2idx['<pad>'] = 0\n",
    "    for index, word in enumerate(self.vocab):\n",
    "      self.word2idx[word] = index + 1\n",
    "    \n",
    "    for word, index in self.word2idx.items():\n",
    "      self.idx2word[index] = word\n",
    "      "
   ]
  },
  {
   "cell_type": "code",
   "execution_count": 14,
   "metadata": {
    "id": "e5PLBwj7R3_b"
   },
   "outputs": [],
   "source": [
    "def max_length(tensor):\n",
    "    return max(len(t) for t in tensor)\n",
    "\n",
    "\n",
    "def load_dataset(final_english_words,final_punjabi_words):\n",
    "\n",
    "\n",
    "    # index language using the class defined above    \n",
    "    english_lang = Word2Index(final_english_words)\n",
    "    punjabi_lang = Word2Index(final_punjabi_words)\n",
    "    \n",
    "    # Vectorize the input and target languages\n",
    "    \n",
    "    # English words\n",
    "    input_tensor = [[english_lang.word2idx[s] for s in hn] for hn in final_english_words]\n",
    "    \n",
    "    # hindi words\n",
    "    target_tensor = [[punjabi_lang.word2idx[s] for s in en] for en in final_punjabi_words]\n",
    "    \n",
    "    # Calculate max_length of input and output tensor\n",
    "    # Here, we'll set those to the longest sentence in the dataset\n",
    "    max_length_inp, max_length_tar = max_length(input_tensor), max_length(target_tensor)\n",
    "    \n",
    "    # Padding the input and output tensor to the maximum length\n",
    "    input_tensor = tf.keras.preprocessing.sequence.pad_sequences(input_tensor, \n",
    "                                                                 maxlen=max_length_inp,\n",
    "                                                                 padding='post')\n",
    "    \n",
    "    target_tensor = tf.keras.preprocessing.sequence.pad_sequences(target_tensor, \n",
    "                                                                  maxlen=max_length_tar, \n",
    "                                                                  padding='post')\n",
    "    \n",
    "    return input_tensor, target_tensor, punjabi_lang, english_lang, max_length_inp, max_length_tar"
   ]
  },
  {
   "cell_type": "code",
   "execution_count": 15,
   "metadata": {
    "id": "3eEtPk33R4B8"
   },
   "outputs": [],
   "source": [
    "english_tensor, punjabi_tensor, punjabi_lang, english_lang, max_length_english, max_length_punjabi = load_dataset(final_english_words,final_punjabi_words)"
   ]
  },
  {
   "cell_type": "code",
   "execution_count": 16,
   "metadata": {
    "colab": {
     "base_uri": "https://localhost:8080/"
    },
    "id": "1DVmet0vEHWK",
    "outputId": "842bbfec-43d7-40ab-be01-d06252c2aac0"
   },
   "outputs": [
    {
     "data": {
      "text/plain": [
       "array([ 2,  4, 58, 21, 14, 58, 41, 55, 44,  1,  0,  0,  0,  0,  0,  0,  0,\n",
       "        0,  0,  0,  0,  0,  0,  0], dtype=int32)"
      ]
     },
     "execution_count": 16,
     "metadata": {},
     "output_type": "execute_result"
    }
   ],
   "source": [
    "punjabi_tensor[0]"
   ]
  },
  {
   "cell_type": "markdown",
   "metadata": {
    "id": "yFK-axdfcMUL"
   },
   "source": [
    "**Saving the tensors model**"
   ]
  },
  {
   "cell_type": "code",
   "execution_count": 17,
   "metadata": {
    "id": "JHJxEPgqR4Hl"
   },
   "outputs": [],
   "source": [
    "# create lookup tables for English and Punjabi data\n",
    "\n",
    "english_vocab_to_int, english_int_to_vocab = english_lang.word2idx,english_lang.idx2word\n",
    "punjabi_vocab_to_int, punjabi_int_to_vocab = punjabi_lang.word2idx,punjabi_lang.idx2word"
   ]
  },
  {
   "cell_type": "code",
   "execution_count": null,
   "metadata": {
    "id": "AE_gjUCs4RM5"
   },
   "outputs": [],
   "source": []
  },
  {
   "cell_type": "code",
   "execution_count": null,
   "metadata": {
    "id": "KHcKjW8-4RUO"
   },
   "outputs": [],
   "source": []
  },
  {
   "cell_type": "markdown",
   "metadata": {
    "id": "gmsgXwBgdgSf"
   },
   "source": [
    "**Model Building**"
   ]
  },
  {
   "cell_type": "markdown",
   "metadata": {
    "id": "PS60ojyhdgYj"
   },
   "source": [
    "## Split the data into train and test"
   ]
  },
  {
   "cell_type": "code",
   "execution_count": 18,
   "metadata": {
    "id": "_pNaSSGcR4T6"
   },
   "outputs": [],
   "source": [
    "english_tensor_train, english_tensor_test, punjabi_tensor_train,punjabi_tensor_test = train_test_split(english_tensor, punjabi_tensor, test_size=0.10,random_state=42)"
   ]
  },
  {
   "cell_type": "code",
   "execution_count": 19,
   "metadata": {
    "colab": {
     "base_uri": "https://localhost:8080/"
    },
    "id": "MFbsAWRvd2jW",
    "outputId": "8739b0b6-1227-4728-ae9c-d67119c26da4"
   },
   "outputs": [
    {
     "data": {
      "text/plain": [
       "(463249, 51473, 463249, 51473)"
      ]
     },
     "execution_count": 19,
     "metadata": {},
     "output_type": "execute_result"
    }
   ],
   "source": [
    "len(english_tensor_train),len(english_tensor_test),len(punjabi_tensor_train),len(punjabi_tensor_test)"
   ]
  },
  {
   "cell_type": "code",
   "execution_count": 20,
   "metadata": {
    "colab": {
     "base_uri": "https://localhost:8080/"
    },
    "id": "P2RTkI_8d9e5",
    "outputId": "cde16def-b7d7-4000-9307-ca23ef230272"
   },
   "outputs": [
    {
     "data": {
      "text/plain": [
       "(29, 24)"
      ]
     },
     "execution_count": 20,
     "metadata": {},
     "output_type": "execute_result"
    }
   ],
   "source": [
    "max_length_english,max_length_punjabi"
   ]
  },
  {
   "cell_type": "markdown",
   "metadata": {
    "id": "aSIKFdUTeH7F"
   },
   "source": [
    "# Defining Bidirectional LSTM Models for Neural Machine Traslation"
   ]
  },
  {
   "cell_type": "code",
   "execution_count": 21,
   "metadata": {
    "id": "1buqz0tCeESZ"
   },
   "outputs": [],
   "source": [
    "from keras.models import Model,Sequential\n",
    "from keras.layers import LSTM, Embedding, Dense, TimeDistributed, Dropout, Bidirectional,RepeatVector,add\n",
    "from tensorflow.keras.callbacks import ModelCheckpoint, EarlyStopping"
   ]
  },
  {
   "cell_type": "markdown",
   "metadata": {
    "id": "4xKiYP7GeQrQ"
   },
   "source": [
    "## Setting-up Hyper parameters"
   ]
  },
  {
   "cell_type": "code",
   "execution_count": 22,
   "metadata": {
    "colab": {
     "base_uri": "https://localhost:8080/"
    },
    "id": "V_ibRWXseLMW",
    "outputId": "e128ecba-a457-4ec1-f1e6-cd85cdbc52cc"
   },
   "outputs": [
    {
     "data": {
      "text/plain": [
       "(61, 35)"
      ]
     },
     "execution_count": 22,
     "metadata": {},
     "output_type": "execute_result"
    }
   ],
   "source": [
    "english_vocab_size = len(english_vocab_to_int)+1\n",
    "punjabi_vocab_size = len(punjabi_vocab_to_int)+1\n",
    "\n",
    "punjabi_vocab_size,english_vocab_size"
   ]
  },
  {
   "cell_type": "code",
   "execution_count": 23,
   "metadata": {
    "colab": {
     "base_uri": "https://localhost:8080/"
    },
    "id": "_wbt8NnvecNp",
    "outputId": "b9b11807-27e4-4cd8-8aa2-683fe61867d5"
   },
   "outputs": [
    {
     "data": {
      "text/plain": [
       "(514722, 29)"
      ]
     },
     "execution_count": 23,
     "metadata": {},
     "output_type": "execute_result"
    }
   ],
   "source": [
    "english_tensor.shape"
   ]
  },
  {
   "cell_type": "code",
   "execution_count": 24,
   "metadata": {
    "colab": {
     "base_uri": "https://localhost:8080/"
    },
    "id": "mVKAj1odepEs",
    "outputId": "20a69e17-86df-414a-8d93-3d6619998412"
   },
   "outputs": [
    {
     "data": {
      "text/plain": [
       "(514722, 24)"
      ]
     },
     "execution_count": 24,
     "metadata": {},
     "output_type": "execute_result"
    }
   ],
   "source": [
    "punjabi_tensor.shape"
   ]
  },
  {
   "cell_type": "markdown",
   "metadata": {
    "id": "4jsbUURkewl0"
   },
   "source": [
    "# Defining Model"
   ]
  },
  {
   "cell_type": "code",
   "execution_count": 34,
   "metadata": {
    "id": "PoG3rvCXesFd"
   },
   "outputs": [],
   "source": [
    "def model_final(input_shape, output_sequence_length, english_vocab_size, punjabi_vocab_size):\n",
    "    \"\"\"\n",
    "    Build and train a model that incorporates embedding, encoder-decoder, and bidirectional RNN\n",
    "    :param input_shape: Tuple of input shape\n",
    "    :param output_sequence_length: Length of output sequence\n",
    "    :param punjabi_vocab_size: Number of unique punjabi words in the dataset\n",
    "    :param english_vocab_size: Number of unique english words in the dataset\n",
    "    :return: Keras model built, but not trained\n",
    "    \"\"\"\n",
    "    # Hyperparameters\n",
    "    learning_rate = 0.009\n",
    "    \n",
    "    # Build the layers    \n",
    "    model = Sequential()\n",
    "    # Embedding\n",
    "    model.add(Embedding(english_vocab_size, 128, input_length=input_shape[1],\n",
    "                         input_shape=input_shape[1:]))\n",
    "    # Encoder\n",
    "    model.add(Bidirectional(LSTM(128)))\n",
    "    model.add(RepeatVector(output_sequence_length))\n",
    "    # Decoder\n",
    "    model.add(Bidirectional(LSTM(128, return_sequences=True)))\n",
    "    model.add(Bidirectional(LSTM(128, return_sequences=True)))\n",
    "    model.add(TimeDistributed(Dense(512, activation='relu')))\n",
    "    model.add(Dropout(0.5))\n",
    "    model.add(TimeDistributed(Dense(punjabi_vocab_size, activation='softmax')))\n",
    "    \n",
    "    model.compile(loss='sparse_categorical_crossentropy',\n",
    "                  optimizer=keras.optimizers.RMSprop(learning_rate),\n",
    "                  metrics=['accuracy'])\n",
    "    return model"
   ]
  },
  {
   "cell_type": "code",
   "execution_count": 31,
   "metadata": {
    "colab": {
     "base_uri": "https://localhost:8080/"
    },
    "id": "6tDJG-iGe0tL",
    "outputId": "7706070e-4745-47cd-ccf6-0371ed3bd896"
   },
   "outputs": [
    {
     "name": "stdout",
     "output_type": "stream",
     "text": [
      "(463249, 29)\n",
      "(463249, 24)\n"
     ]
    }
   ],
   "source": [
    "print(english_tensor_train.shape)\n",
    "print(punjabi_tensor_train.shape)"
   ]
  },
  {
   "cell_type": "code",
   "execution_count": 35,
   "metadata": {
    "colab": {
     "base_uri": "https://localhost:8080/"
    },
    "id": "LjX04DMHfMso",
    "outputId": "60c08759-e83e-497f-be45-9866debbb15c"
   },
   "outputs": [
    {
     "name": "stdout",
     "output_type": "stream",
     "text": [
      "Model: \"sequential_2\"\n",
      "_________________________________________________________________\n",
      " Layer (type)                Output Shape              Param #   \n",
      "=================================================================\n",
      " embedding_2 (Embedding)     (None, 29, 128)           4480      \n",
      "                                                                 \n",
      " bidirectional_6 (Bidirectio  (None, 256)              263168    \n",
      " nal)                                                            \n",
      "                                                                 \n",
      " repeat_vector_2 (RepeatVect  (None, 24, 256)          0         \n",
      " or)                                                             \n",
      "                                                                 \n",
      " bidirectional_7 (Bidirectio  (None, 24, 256)          394240    \n",
      " nal)                                                            \n",
      "                                                                 \n",
      " bidirectional_8 (Bidirectio  (None, 24, 256)          394240    \n",
      " nal)                                                            \n",
      "                                                                 \n",
      " time_distributed_4 (TimeDis  (None, 24, 512)          131584    \n",
      " tributed)                                                       \n",
      "                                                                 \n",
      " dropout_2 (Dropout)         (None, 24, 512)           0         \n",
      "                                                                 \n",
      " time_distributed_5 (TimeDis  (None, 24, 61)           31293     \n",
      " tributed)                                                       \n",
      "                                                                 \n",
      "=================================================================\n",
      "Total params: 1,219,005\n",
      "Trainable params: 1,219,005\n",
      "Non-trainable params: 0\n",
      "_________________________________________________________________\n"
     ]
    }
   ],
   "source": [
    "\n",
    "model = model_final(english_tensor_train.shape,punjabi_tensor_train.shape[1],english_vocab_size,punjabi_vocab_size)\n",
    "model.summary()"
   ]
  },
  {
   "cell_type": "markdown",
   "metadata": {
    "id": "X7llit_Efbcg"
   },
   "source": [
    "## Fitting The Model"
   ]
  },
  {
   "cell_type": "code",
   "execution_count": 36,
   "metadata": {
    "colab": {
     "base_uri": "https://localhost:8080/"
    },
    "id": "14pHyFnSfVHA",
    "outputId": "85e53d6e-bf13-40d0-9ae4-dcb9e120c3e3"
   },
   "outputs": [
    {
     "name": "stdout",
     "output_type": "stream",
     "text": [
      "Epoch 1/30\n",
      "724/724 [==============================] - ETA: 0s - loss: 1.4891 - accuracy: 0.6838\n",
      "Epoch 1: val_loss improved from inf to 1.09474, saving model to /content/drive/MyDrive/Punjabi Transliteration/new.hdf5\n",
      "724/724 [==============================] - 47s 51ms/step - loss: 1.4891 - accuracy: 0.6838 - val_loss: 1.0947 - val_accuracy: 0.7130\n",
      "Epoch 2/30\n",
      "723/724 [============================>.] - ETA: 0s - loss: 1.0871 - accuracy: 0.7123\n",
      "Epoch 2: val_loss improved from 1.09474 to 0.99788, saving model to /content/drive/MyDrive/Punjabi Transliteration/new.hdf5\n",
      "724/724 [==============================] - 35s 49ms/step - loss: 1.0870 - accuracy: 0.7123 - val_loss: 0.9979 - val_accuracy: 0.7263\n",
      "Epoch 3/30\n",
      "723/724 [============================>.] - ETA: 0s - loss: 0.9407 - accuracy: 0.7385\n",
      "Epoch 3: val_loss improved from 0.99788 to 0.84245, saving model to /content/drive/MyDrive/Punjabi Transliteration/new.hdf5\n",
      "724/724 [==============================] - 37s 51ms/step - loss: 0.9406 - accuracy: 0.7385 - val_loss: 0.8424 - val_accuracy: 0.7636\n",
      "Epoch 4/30\n",
      "723/724 [============================>.] - ETA: 0s - loss: 0.7979 - accuracy: 0.7726\n",
      "Epoch 4: val_loss improved from 0.84245 to 0.67500, saving model to /content/drive/MyDrive/Punjabi Transliteration/new.hdf5\n",
      "724/724 [==============================] - 35s 49ms/step - loss: 0.7978 - accuracy: 0.7726 - val_loss: 0.6750 - val_accuracy: 0.7998\n",
      "Epoch 5/30\n",
      "723/724 [============================>.] - ETA: 0s - loss: 0.6356 - accuracy: 0.8082\n",
      "Epoch 5: val_loss improved from 0.67500 to 0.58922, saving model to /content/drive/MyDrive/Punjabi Transliteration/new.hdf5\n",
      "724/724 [==============================] - 35s 48ms/step - loss: 0.6356 - accuracy: 0.8082 - val_loss: 0.5892 - val_accuracy: 0.8126\n",
      "Epoch 6/30\n",
      "724/724 [==============================] - ETA: 0s - loss: 0.5115 - accuracy: 0.8365\n",
      "Epoch 6: val_loss improved from 0.58922 to 0.42367, saving model to /content/drive/MyDrive/Punjabi Transliteration/new.hdf5\n",
      "724/724 [==============================] - 35s 48ms/step - loss: 0.5115 - accuracy: 0.8365 - val_loss: 0.4237 - val_accuracy: 0.8596\n",
      "Epoch 7/30\n",
      "724/724 [==============================] - ETA: 0s - loss: 0.4345 - accuracy: 0.8564\n",
      "Epoch 7: val_loss improved from 0.42367 to 0.38621, saving model to /content/drive/MyDrive/Punjabi Transliteration/new.hdf5\n",
      "724/724 [==============================] - 35s 48ms/step - loss: 0.4345 - accuracy: 0.8564 - val_loss: 0.3862 - val_accuracy: 0.8684\n",
      "Epoch 8/30\n",
      "723/724 [============================>.] - ETA: 0s - loss: 0.3883 - accuracy: 0.8690\n",
      "Epoch 8: val_loss improved from 0.38621 to 0.34738, saving model to /content/drive/MyDrive/Punjabi Transliteration/new.hdf5\n",
      "724/724 [==============================] - 37s 51ms/step - loss: 0.3883 - accuracy: 0.8690 - val_loss: 0.3474 - val_accuracy: 0.8795\n",
      "Epoch 9/30\n",
      "724/724 [==============================] - ETA: 0s - loss: 0.3571 - accuracy: 0.8781\n",
      "Epoch 9: val_loss improved from 0.34738 to 0.32810, saving model to /content/drive/MyDrive/Punjabi Transliteration/new.hdf5\n",
      "724/724 [==============================] - 35s 48ms/step - loss: 0.3571 - accuracy: 0.8781 - val_loss: 0.3281 - val_accuracy: 0.8840\n",
      "Epoch 10/30\n",
      "724/724 [==============================] - ETA: 0s - loss: 0.3356 - accuracy: 0.8847\n",
      "Epoch 10: val_loss improved from 0.32810 to 0.30591, saving model to /content/drive/MyDrive/Punjabi Transliteration/new.hdf5\n",
      "724/724 [==============================] - 35s 48ms/step - loss: 0.3356 - accuracy: 0.8847 - val_loss: 0.3059 - val_accuracy: 0.8925\n",
      "Epoch 11/30\n",
      "723/724 [============================>.] - ETA: 0s - loss: 0.3192 - accuracy: 0.8897\n",
      "Epoch 11: val_loss improved from 0.30591 to 0.29893, saving model to /content/drive/MyDrive/Punjabi Transliteration/new.hdf5\n",
      "724/724 [==============================] - 37s 51ms/step - loss: 0.3192 - accuracy: 0.8897 - val_loss: 0.2989 - val_accuracy: 0.8945\n",
      "Epoch 12/30\n",
      "724/724 [==============================] - ETA: 0s - loss: 0.3061 - accuracy: 0.8936\n",
      "Epoch 12: val_loss improved from 0.29893 to 0.28273, saving model to /content/drive/MyDrive/Punjabi Transliteration/new.hdf5\n",
      "724/724 [==============================] - 35s 48ms/step - loss: 0.3061 - accuracy: 0.8936 - val_loss: 0.2827 - val_accuracy: 0.9001\n",
      "Epoch 13/30\n",
      "724/724 [==============================] - ETA: 0s - loss: 0.2964 - accuracy: 0.8967\n",
      "Epoch 13: val_loss improved from 0.28273 to 0.28248, saving model to /content/drive/MyDrive/Punjabi Transliteration/new.hdf5\n",
      "724/724 [==============================] - 37s 51ms/step - loss: 0.2964 - accuracy: 0.8967 - val_loss: 0.2825 - val_accuracy: 0.8999\n",
      "Epoch 14/30\n",
      "723/724 [============================>.] - ETA: 0s - loss: 0.2871 - accuracy: 0.8997\n",
      "Epoch 14: val_loss improved from 0.28248 to 0.28050, saving model to /content/drive/MyDrive/Punjabi Transliteration/new.hdf5\n",
      "724/724 [==============================] - 37s 51ms/step - loss: 0.2871 - accuracy: 0.8997 - val_loss: 0.2805 - val_accuracy: 0.9004\n",
      "Epoch 15/30\n",
      "723/724 [============================>.] - ETA: 0s - loss: 0.2797 - accuracy: 0.9021\n",
      "Epoch 15: val_loss improved from 0.28050 to 0.27434, saving model to /content/drive/MyDrive/Punjabi Transliteration/new.hdf5\n",
      "724/724 [==============================] - 35s 48ms/step - loss: 0.2797 - accuracy: 0.9021 - val_loss: 0.2743 - val_accuracy: 0.9033\n",
      "Epoch 16/30\n",
      "723/724 [============================>.] - ETA: 0s - loss: 0.2731 - accuracy: 0.9041\n",
      "Epoch 16: val_loss improved from 0.27434 to 0.26573, saving model to /content/drive/MyDrive/Punjabi Transliteration/new.hdf5\n",
      "724/724 [==============================] - 35s 48ms/step - loss: 0.2731 - accuracy: 0.9041 - val_loss: 0.2657 - val_accuracy: 0.9066\n",
      "Epoch 17/30\n",
      "724/724 [==============================] - ETA: 0s - loss: 0.2669 - accuracy: 0.9064\n",
      "Epoch 17: val_loss improved from 0.26573 to 0.25753, saving model to /content/drive/MyDrive/Punjabi Transliteration/new.hdf5\n",
      "724/724 [==============================] - 35s 48ms/step - loss: 0.2669 - accuracy: 0.9064 - val_loss: 0.2575 - val_accuracy: 0.9094\n",
      "Epoch 18/30\n",
      "724/724 [==============================] - ETA: 0s - loss: 0.2615 - accuracy: 0.9081\n",
      "Epoch 18: val_loss did not improve from 0.25753\n",
      "724/724 [==============================] - 36s 50ms/step - loss: 0.2615 - accuracy: 0.9081 - val_loss: 0.2590 - val_accuracy: 0.9090\n",
      "Epoch 19/30\n",
      "723/724 [============================>.] - ETA: 0s - loss: 0.2565 - accuracy: 0.9097\n",
      "Epoch 19: val_loss did not improve from 0.25753\n",
      "Restoring model weights from the end of the best epoch: 17.\n",
      "724/724 [==============================] - 34s 48ms/step - loss: 0.2565 - accuracy: 0.9097 - val_loss: 0.2588 - val_accuracy: 0.9093\n",
      "Epoch 19: early stopping\n"
     ]
    }
   ],
   "source": [
    "checkpoint = ModelCheckpoint('/content/drive/MyDrive/Punjabi Transliteration/new.hdf5', monitor='val_loss', verbose=1, save_best_only=True, mode='min')\n",
    "early_stopping = EarlyStopping(monitor='val_accuracy',patience=2,verbose = 1, mode ='max',restore_best_weights = True)\n",
    "\n",
    "\n",
    "history = model.fit(english_tensor_train, punjabi_tensor_train, batch_size=512,validation_split=0.2,epochs=30,callbacks = [checkpoint,early_stopping])"
   ]
  },
  {
   "cell_type": "markdown",
   "metadata": {
    "id": "M3tVlN9pljSj"
   },
   "source": [
    "## Plotting Some graph"
   ]
  },
  {
   "cell_type": "code",
   "execution_count": 37,
   "metadata": {
    "colab": {
     "base_uri": "https://localhost:8080/",
     "height": 447
    },
    "id": "Xwd6DWaUlhh-",
    "outputId": "d04acf26-059b-4b24-bcb0-9e4ff27e02a7"
   },
   "outputs": [
    {
     "data": {
      "image/png": "[encoded data removed]",
      "text/plain": [
       "<Figure size 640x480 with 1 Axes>"
      ]
     },
     "metadata": {},
     "output_type": "display_data"
    },
    {
     "data": {
      "text/plain": [
       "<Figure size 640x480 with 0 Axes>"
      ]
     },
     "metadata": {},
     "output_type": "display_data"
    }
   ],
   "source": [
    "plt.plot(history.history['loss'])\n",
    "plt.plot(history.history['val_loss'])\n",
    "plt.legend(['train','validation'])\n",
    "plt.show()\n",
    "plt.savefig('trai_validation_loss')"
   ]
  },
  {
   "cell_type": "code",
   "execution_count": 38,
   "metadata": {
    "colab": {
     "base_uri": "https://localhost:8080/",
     "height": 489
    },
    "id": "T7Mv_0Aplhr2",
    "outputId": "a233ae62-b9b3-49ef-bc96-79c3e51fb6e2"
   },
   "outputs": [
    {
     "data": {
      "image/png": "[encoded data removed]",
      "text/plain": [
       "<Figure size 640x480 with 1 Axes>"
      ]
     },
     "metadata": {},
     "output_type": "display_data"
    },
    {
     "data": {
      "text/plain": [
       "<Figure size 640x480 with 0 Axes>"
      ]
     },
     "metadata": {},
     "output_type": "display_data"
    }
   ],
   "source": [
    "from matplotlib import pyplot as plt\n",
    "plt.plot(history.history['accuracy'])\n",
    "plt.plot(history.history['val_accuracy'])\n",
    "plt.title('model accuracy')\n",
    "plt.ylabel('accuracy')\n",
    "plt.xlabel('epoch')\n",
    "plt.legend(['train', 'val'], loc='upper left')\n",
    "plt.show()\n",
    "plt.savefig('trai_validation_accuracy')"
   ]
  },
  {
   "cell_type": "markdown",
   "metadata": {
    "id": "8ppt-vclKZoi"
   },
   "source": [
    "**Prediction**"
   ]
  },
  {
   "cell_type": "code",
   "execution_count": 39,
   "metadata": {
    "id": "xy33AP64lhuu"
   },
   "outputs": [],
   "source": [
    "from keras.models import load_model"
   ]
  },
  {
   "cell_type": "code",
   "execution_count": 41,
   "metadata": {
    "id": "zmM4Ka7nlhxr"
   },
   "outputs": [],
   "source": [
    "# Load the Best Model\n",
    "\n",
    "model = load_model('/content/drive/MyDrive/Punjabi Transliteration/new.hdf5')"
   ]
  },
  {
   "cell_type": "code",
   "execution_count": 44,
   "metadata": {
    "colab": {
     "base_uri": "https://localhost:8080/"
    },
    "id": "keMmhGFSlh29",
    "outputId": "8f6cf898-bd0b-4fa7-bdfa-bc448adb29f6"
   },
   "outputs": [
    {
     "name": "stdout",
     "output_type": "stream",
     "text": [
      "1609/1609 [==============================] - 13s 7ms/step\n"
     ]
    }
   ],
   "source": [
    "punjabi_tensor_predicted = np.argmax(model.predict(english_tensor_test),axis=-1)"
   ]
  },
  {
   "cell_type": "code",
   "execution_count": 45,
   "metadata": {
    "colab": {
     "base_uri": "https://localhost:8080/"
    },
    "id": "XATn4cjeEmy7",
    "outputId": "4cbc5a4f-a214-41f5-cc52-c847b1e4d4d3"
   },
   "outputs": [
    {
     "data": {
      "text/plain": [
       "array([[ 2, 14, 41, ...,  0,  0,  0],\n",
       "       [ 2, 34, 47, ...,  0,  0,  0],\n",
       "       [ 2, 40, 51, ...,  0,  0,  0],\n",
       "       ...,\n",
       "       [ 2, 14, 53, ...,  0,  0,  0],\n",
       "       [ 2, 14, 47, ...,  0,  0,  0],\n",
       "       [ 2, 16, 52, ...,  0,  0,  0]])"
      ]
     },
     "execution_count": 45,
     "metadata": {},
     "output_type": "execute_result"
    }
   ],
   "source": [
    "punjabi_tensor_predicted"
   ]
  },
  {
   "cell_type": "markdown",
   "metadata": {
    "id": "1DQeY2i1m5gx"
   },
   "source": [
    "Evaluating test function"
   ]
  },
  {
   "cell_type": "code",
   "execution_count": 46,
   "metadata": {
    "colab": {
     "base_uri": "https://localhost:8080/"
    },
    "id": "9f9qB3KrlzO5",
    "outputId": "c391d982-0ab8-44e9-f1e0-b5fed41477c1"
   },
   "outputs": [
    {
     "data": {
      "text/plain": [
       "0.9095707"
      ]
     },
     "execution_count": 46,
     "metadata": {},
     "output_type": "execute_result"
    }
   ],
   "source": [
    "m = tf.keras.metrics.Accuracy()\n",
    "m.update_state(punjabi_tensor_test, punjabi_tensor_predicted)\n",
    "m.result().numpy()"
   ]
  },
  {
   "cell_type": "code",
   "execution_count": 16,
   "metadata": {
    "id": "LlG0E8lElzk_"
   },
   "outputs": [],
   "source": [
    "from keras.models import load_model\n",
    "import tensorflow as tf\n",
    "import numpy as np\n",
    "import pickle \n",
    "\n",
    "model = load_model('eng_to_pun.hdf5') \n",
    "with open('engvocab_to_int.pickle', 'rb') as handle:\n",
    "    english_vocab_to_int = pickle.load(handle)\n",
    "\n",
    "with open('punint_to_vocab.pickle', 'rb') as handle:\n",
    "    punjabi_int_to_vocab = pickle.load(handle)\n",
    "\n",
    "def predict(text):\n",
    "    word_pred = []\n",
    "    text=text.split()\n",
    "    text = ['@' + item + '#' for item in text]\n",
    "    for i in text:\n",
    "    # Convert the new input sentence to a tensor using the Word2Index objects\n",
    "        new_input_tensor = [[english_vocab_to_int.get(char, english_vocab_to_int['<pad>']) for char in i]]\n",
    "        # Pad the tensor to the maximum length\n",
    "        new_input_tensor = tf.keras.preprocessing.sequence.pad_sequences(new_input_tensor, maxlen=29, padding='post')\n",
    "        punjabi_tensor_predicted = np.argmax(model.predict(new_input_tensor),axis=-1)\n",
    "    \n",
    "        for i in punjabi_tensor_predicted[0]:\n",
    "           word_pred.append(punjabi_int_to_vocab[i])\n",
    "    return word_pred"
   ]
  },
  {
   "cell_type": "code",
   "execution_count": 17,
   "metadata": {
    "colab": {
     "base_uri": "https://localhost:8080/"
    },
    "id": "olzAAswqL70Q",
    "outputId": "fc815380-08c9-40d6-97c5-a782c543d696"
   },
   "outputs": [
    {
     "name": "stdout",
     "output_type": "stream",
     "text": [
      "1/1 [==============================] - 4s 4s/step\n",
      "1/1 [==============================] - 0s 17ms/step\n",
      "1/1 [==============================] - 0s 30ms/step\n",
      "1/1 [==============================] - 0s 32ms/step\n",
      "1/1 [==============================] - 0s 25ms/step\n",
      "1/1 [==============================] - 0s 25ms/step\n",
      "1/1 [==============================] - 0s 26ms/step\n",
      "1/1 [==============================] - 0s 23ms/step\n"
     ]
    }
   ],
   "source": [
    "s=predict(\"punjabi university patiala jobanpreet singh tusi kive hoo\")\n"
   ]
  },
  {
   "cell_type": "code",
   "execution_count": 18,
   "metadata": {
    "id": "kYpgC99dcY1X"
   },
   "outputs": [],
   "source": [
    "name = \"\"\n",
    "l=[]\n",
    "# Iterate over the characters in the list\n",
    "for char in s:\n",
    "    # Check if the character is \"@\"\n",
    "    if char == \"@\":\n",
    "        # Reset the name variable\n",
    "        name = \"\"\n",
    "    # Check if the character is \"#\"\n",
    "    elif char == \"#\":\n",
    "        # Print the stored name\n",
    "        l.append(name)\n",
    "        # print(name, end=\" \")\n",
    "    # If the character is not \"@\" or \"#\", add it to the name variable\n",
    "    else:\n",
    "        name += char"
   ]
  },
  {
   "cell_type": "code",
   "execution_count": 19,
   "metadata": {
    "colab": {
     "base_uri": "https://localhost:8080/"
    },
    "id": "Djdq77A6NWi8",
    "outputId": "a16c89dc-ba7d-4478-b8a7-35618c690ec6"
   },
   "outputs": [
    {
     "name": "stdout",
     "output_type": "stream",
     "text": [
      "ਪੰਜਾਬੀ ਯੂਨੀਵਰਸਿਟੀ ਪਟਿਆਲਾ ਜੋਬਨਪ੍ਰੀਤ ਸਿੰਘ ਤੁਸੀ ਕਿਵੇ ਹੋ\n"
     ]
    }
   ],
   "source": [
    "prev = None\n",
    "result = []\n",
    "for item in l:\n",
    "    if item != prev:\n",
    "        result.append(item)\n",
    "    prev = item\n",
    "print(\" \".join(result))"
   ]
  },
  {
   "cell_type": "code",
   "execution_count": null,
   "metadata": {},
   "outputs": [],
   "source": []
  }
 ],
 "metadata": {
  "accelerator": "GPU",
  "colab": {
   "provenance": []
  },
  "gpuClass": "standard",
  "kernelspec": {
   "display_name": "Python 3 (ipykernel)",
   "language": "python",
   "name": "python3"
  },
  "language_info": {
   "codemirror_mode": {
    "name": "ipython",
    "version": 3
   },
   "file_extension": ".py",
   "mimetype": "text/x-python",
   "name": "python",
   "nbconvert_exporter": "python",
   "pygments_lexer": "ipython3",
   "version": "3.9.13"
  }
 },
 "nbformat": 4,
 "nbformat_minor": 1
}
