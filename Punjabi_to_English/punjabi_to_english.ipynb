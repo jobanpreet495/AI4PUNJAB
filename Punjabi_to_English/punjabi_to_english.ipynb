{
 "cells": [
  {
   "cell_type": "code",
   "execution_count": 65,
   "metadata": {
    "id": "Z-wh-gGsN6hZ"
   },
   "outputs": [],
   "source": [
    "# importing libraries\n",
    "import numpy as np\n",
    "import pandas as pd\n",
    "import os\n",
    "import re\n",
    "import random\n",
    "import sklearn\n",
    "import copy\n",
    "\n",
    "# For Splitting the data into training and testing\n",
    "from sklearn.model_selection import train_test_split\n",
    "\n",
    "# For Plotting data\n",
    "import matplotlib.pyplot as plt\n",
    "import seaborn as sns\n",
    "\n",
    "# Importing natural lenguage toolkit\n",
    "import nltk\n",
    "\n",
    "# Tensorflow and keras to run the model on.\n",
    "import tensorflow as tf\n",
    "from tensorflow import keras"
   ]
  },
  {
   "cell_type": "markdown",
   "metadata": {
    "id": "hN7AmQq-OiRY"
   },
   "source": [
    "## Importing Dataset"
   ]
  },
  {
   "cell_type": "code",
   "execution_count": 66,
   "metadata": {
    "id": "TPc4XzIeOi8M"
   },
   "outputs": [],
   "source": [
    "df=pd.read_csv(\"/content/drive/MyDrive/transliteration.csv\")"
   ]
  },
  {
   "cell_type": "code",
   "execution_count": 67,
   "metadata": {
    "colab": {
     "base_uri": "https://localhost:8080/",
     "height": 206
    },
    "id": "_CLVDbaTOqp-",
    "outputId": "736a2054-e956-437b-c4bf-13bcd953bb2d"
   },
   "outputs": [
    {
     "data": {
      "text/html": [
       "\n",
       "  <div id=\"df-bf56a177-7743-4648-9fff-bf42f5f54a53\">\n",
       "    <div class=\"colab-df-container\">\n",
       "      <div>\n",
       "<style scoped>\n",
       "    .dataframe tbody tr th:only-of-type {\n",
       "        vertical-align: middle;\n",
       "    }\n",
       "\n",
       "    .dataframe tbody tr th {\n",
       "        vertical-align: top;\n",
       "    }\n",
       "\n",
       "    .dataframe thead th {\n",
       "        text-align: right;\n",
       "    }\n",
       "</style>\n",
       "<table border=\"1\" class=\"dataframe\">\n",
       "  <thead>\n",
       "    <tr style=\"text-align: right;\">\n",
       "      <th></th>\n",
       "      <th>Punjabi</th>\n",
       "      <th>English</th>\n",
       "    </tr>\n",
       "  </thead>\n",
       "  <tbody>\n",
       "    <tr>\n",
       "      <th>0</th>\n",
       "      <td>ਅੱਜਕੱਲ੍ਹ</td>\n",
       "      <td>ajjkallh</td>\n",
       "    </tr>\n",
       "    <tr>\n",
       "      <th>1</th>\n",
       "      <td>ਕੁੱਕਰੀ</td>\n",
       "      <td>kookerii</td>\n",
       "    </tr>\n",
       "    <tr>\n",
       "      <th>2</th>\n",
       "      <td>ਧਮਨੀਆਂ</td>\n",
       "      <td>dhamniyan</td>\n",
       "    </tr>\n",
       "    <tr>\n",
       "      <th>3</th>\n",
       "      <td>ਖ਼ੁਦਗ਼ਰਜ਼ੀ</td>\n",
       "      <td>khudgarzi</td>\n",
       "    </tr>\n",
       "    <tr>\n",
       "      <th>4</th>\n",
       "      <td>ਅਗਲੇਰਾ</td>\n",
       "      <td>aglera</td>\n",
       "    </tr>\n",
       "  </tbody>\n",
       "</table>\n",
       "</div>\n",
       "      <button class=\"colab-df-convert\" onclick=\"convertToInteractive('df-bf56a177-7743-4648-9fff-bf42f5f54a53')\"\n",
       "              title=\"Convert this dataframe to an interactive table.\"\n",
       "              style=\"display:none;\">\n",
       "        \n",
       "  <svg xmlns=\"http://www.w3.org/2000/svg\" height=\"24px\"viewBox=\"0 0 24 24\"\n",
       "       width=\"24px\">\n",
       "    <path d=\"M0 0h24v24H0V0z\" fill=\"none\"/>\n",
       "    <path d=\"M18.56 5.44l.94 2.06.94-2.06 2.06-.94-2.06-.94-.94-2.06-.94 2.06-2.06.94zm-11 1L8.5 8.5l.94-2.06 2.06-.94-2.06-.94L8.5 2.5l-.94 2.06-2.06.94zm10 10l.94 2.06.94-2.06 2.06-.94-2.06-.94-.94-2.06-.94 2.06-2.06.94z\"/><path d=\"M17.41 7.96l-1.37-1.37c-.4-.4-.92-.59-1.43-.59-.52 0-1.04.2-1.43.59L10.3 9.45l-7.72 7.72c-.78.78-.78 2.05 0 2.83L4 21.41c.39.39.9.59 1.41.59.51 0 1.02-.2 1.41-.59l7.78-7.78 2.81-2.81c.8-.78.8-2.07 0-2.86zM5.41 20L4 18.59l7.72-7.72 1.47 1.35L5.41 20z\"/>\n",
       "  </svg>\n",
       "      </button>\n",
       "      \n",
       "  <style>\n",
       "    .colab-df-container {\n",
       "      display:flex;\n",
       "      flex-wrap:wrap;\n",
       "      gap: 12px;\n",
       "    }\n",
       "\n",
       "    .colab-df-convert {\n",
       "      background-color: #E8F0FE;\n",
       "      border: none;\n",
       "      border-radius: 50%;\n",
       "      cursor: pointer;\n",
       "      display: none;\n",
       "      fill: #1967D2;\n",
       "      height: 32px;\n",
       "      padding: 0 0 0 0;\n",
       "      width: 32px;\n",
       "    }\n",
       "\n",
       "    .colab-df-convert:hover {\n",
       "      background-color: #E2EBFA;\n",
       "      box-shadow: 0px 1px 2px rgba(60, 64, 67, 0.3), 0px 1px 3px 1px rgba(60, 64, 67, 0.15);\n",
       "      fill: #174EA6;\n",
       "    }\n",
       "\n",
       "    [theme=dark] .colab-df-convert {\n",
       "      background-color: #3B4455;\n",
       "      fill: #D2E3FC;\n",
       "    }\n",
       "\n",
       "    [theme=dark] .colab-df-convert:hover {\n",
       "      background-color: #434B5C;\n",
       "      box-shadow: 0px 1px 3px 1px rgba(0, 0, 0, 0.15);\n",
       "      filter: drop-shadow(0px 1px 2px rgba(0, 0, 0, 0.3));\n",
       "      fill: #FFFFFF;\n",
       "    }\n",
       "  </style>\n",
       "\n",
       "      <script>\n",
       "        const buttonEl =\n",
       "          document.querySelector('#df-bf56a177-7743-4648-9fff-bf42f5f54a53 button.colab-df-convert');\n",
       "        buttonEl.style.display =\n",
       "          google.colab.kernel.accessAllowed ? 'block' : 'none';\n",
       "\n",
       "        async function convertToInteractive(key) {\n",
       "          const element = document.querySelector('#df-bf56a177-7743-4648-9fff-bf42f5f54a53');\n",
       "          const dataTable =\n",
       "            await google.colab.kernel.invokeFunction('convertToInteractive',\n",
       "                                                     [key], {});\n",
       "          if (!dataTable) return;\n",
       "\n",
       "          const docLinkHtml = 'Like what you see? Visit the ' +\n",
       "            '<a target=\"_blank\" href=https://colab.research.google.com/notebooks/data_table.ipynb>data table notebook</a>'\n",
       "            + ' to learn more about interactive tables.';\n",
       "          element.innerHTML = '';\n",
       "          dataTable['output_type'] = 'display_data';\n",
       "          await google.colab.output.renderOutput(dataTable, element);\n",
       "          const docLink = document.createElement('div');\n",
       "          docLink.innerHTML = docLinkHtml;\n",
       "          element.appendChild(docLink);\n",
       "        }\n",
       "      </script>\n",
       "    </div>\n",
       "  </div>\n",
       "  "
      ],
      "text/plain": [
       "      Punjabi    English\n",
       "0    ਅੱਜਕੱਲ੍ਹ   ajjkallh\n",
       "1      ਕੁੱਕਰੀ   kookerii\n",
       "2      ਧਮਨੀਆਂ  dhamniyan\n",
       "3  ਖ਼ੁਦਗ਼ਰਜ਼ੀ  khudgarzi\n",
       "4      ਅਗਲੇਰਾ     aglera"
      ]
     },
     "execution_count": 67,
     "metadata": {},
     "output_type": "execute_result"
    }
   ],
   "source": [
    "df.head() # check first five rows"
   ]
  },
  {
   "cell_type": "code",
   "execution_count": 68,
   "metadata": {
    "colab": {
     "base_uri": "https://localhost:8080/"
    },
    "id": "Xq1B-z7JOtDh",
    "outputId": "bc3f7633-a571-431d-a75d-c9cbaaaf401d"
   },
   "outputs": [
    {
     "data": {
      "text/plain": [
       "(514724, 2)"
      ]
     },
     "execution_count": 68,
     "metadata": {},
     "output_type": "execute_result"
    }
   ],
   "source": [
    "df.shape # check number of rows and columns"
   ]
  },
  {
   "cell_type": "code",
   "execution_count": 69,
   "metadata": {
    "colab": {
     "base_uri": "https://localhost:8080/"
    },
    "id": "1xWCj41YOznt",
    "outputId": "df8c0643-ba72-4957-ab4b-b445c20d6067"
   },
   "outputs": [
    {
     "data": {
      "text/plain": [
       "Punjabi    0\n",
       "English    2\n",
       "dtype: int64"
      ]
     },
     "execution_count": 69,
     "metadata": {},
     "output_type": "execute_result"
    }
   ],
   "source": [
    "df.isnull().sum() # check missing values"
   ]
  },
  {
   "cell_type": "code",
   "execution_count": 70,
   "metadata": {
    "id": "e0UDTHZqO4g6"
   },
   "outputs": [],
   "source": [
    "df.dropna(inplace=True) # droping null values"
   ]
  },
  {
   "cell_type": "code",
   "execution_count": 71,
   "metadata": {
    "id": "t_kPnbnIPKZz"
   },
   "outputs": [],
   "source": [
    "X = df['Punjabi']\n",
    "y = df['English']"
   ]
  },
  {
   "cell_type": "code",
   "execution_count": 72,
   "metadata": {
    "id": "YOqwaay_PcIp"
   },
   "outputs": [],
   "source": [
    "final_punjabi_words= X.apply(lambda x: '@' + x.strip() + '#')\n",
    "final_english_words= y.apply(lambda x: '@' + x.strip() + '#')"
   ]
  },
  {
   "cell_type": "code",
   "execution_count": 73,
   "metadata": {
    "id": "QcLJvEIqQH9F"
   },
   "outputs": [],
   "source": [
    "final_punjabi_words=list(final_punjabi_words)\n",
    "final_english_words=list(final_english_words)"
   ]
  },
  {
   "cell_type": "code",
   "execution_count": 74,
   "metadata": {
    "colab": {
     "base_uri": "https://localhost:8080/"
    },
    "id": "akivSgfVQtyw",
    "outputId": "0b927655-b30a-4dbe-97b0-62f7d5b2818d"
   },
   "outputs": [
    {
     "data": {
      "text/plain": [
       "('@ਲਹੌਰ#', '@lahor#')"
      ]
     },
     "execution_count": 74,
     "metadata": {},
     "output_type": "execute_result"
    }
   ],
   "source": [
    "(final_punjabi_words[11],final_english_words[11])"
   ]
  },
  {
   "cell_type": "code",
   "execution_count": 75,
   "metadata": {
    "colab": {
     "base_uri": "https://localhost:8080/"
    },
    "id": "al0nlfSXQ6xK",
    "outputId": "a700c76b-b64e-47c3-95d9-f71280294362"
   },
   "outputs": [
    {
     "data": {
      "text/plain": [
       "(514722, 514722)"
      ]
     },
     "execution_count": 75,
     "metadata": {},
     "output_type": "execute_result"
    }
   ],
   "source": [
    "len(final_punjabi_words),len(final_english_words)"
   ]
  },
  {
   "cell_type": "markdown",
   "metadata": {
    "id": "zFMKf-UMRnYI"
   },
   "source": [
    "### In any NLP task First Step is to Create the vocab of the words, so First we will Create the dictonaries like ```vocab_to_index``` and ```index_to_vocab``` for both the languages ```punjabi``` and ```english``` they are known as ```lookup_tables```"
   ]
  },
  {
   "cell_type": "code",
   "execution_count": 2,
   "metadata": {
    "id": "2VCZf-akRRth"
   },
   "outputs": [],
   "source": [
    "class Word2Index():\n",
    "  def __init__(self, lang):\n",
    "    self.lang = lang\n",
    "    self.word2idx = {}\n",
    "    self.idx2word = {}\n",
    "    self.vocab = set()\n",
    "    \n",
    "    self.create_index()\n",
    "    \n",
    "  def create_index(self):\n",
    "    for phrase in self.lang:\n",
    "      for l in phrase:\n",
    "        self.vocab.update(l)\n",
    "    \n",
    "    self.vocab = sorted(self.vocab)\n",
    "    \n",
    "    self.word2idx['<pad>'] = 0\n",
    "    for index, word in enumerate(self.vocab):\n",
    "      self.word2idx[word] = index + 1\n",
    "    \n",
    "    for word, index in self.word2idx.items():\n",
    "      self.idx2word[index] = word\n",
    "      "
   ]
  },
  {
   "cell_type": "code",
   "execution_count": 76,
   "metadata": {
    "id": "e5PLBwj7R3_b"
   },
   "outputs": [],
   "source": [
    "def max_length(tensor):\n",
    "    return max(len(t) for t in tensor)\n",
    "\n",
    "\n",
    "def load_dataset(final_punjabi_words,final_english_words):\n",
    "\n",
    "\n",
    "    # index language using the class defined above    \n",
    "    punjabi_lang = Word2Index(final_punjabi_words)\n",
    "    english_lang = Word2Index(final_english_words)\n",
    "    \n",
    "    # Vectorize the input and target languages\n",
    "    \n",
    "    # English words\n",
    "    input_tensor = [[punjabi_lang.word2idx[s] for s in hn] for hn in final_punjabi_words]\n",
    "    \n",
    "    # hindi words\n",
    "    target_tensor = [[english_lang.word2idx[s] for s in en] for en in final_english_words]\n",
    "    \n",
    "    # Calculate max_length of input and output tensor\n",
    "    # Here, we'll set those to the longest sentence in the dataset\n",
    "    max_length_inp, max_length_tar = max_length(input_tensor), max_length(target_tensor)\n",
    "    \n",
    "    # Padding the input and output tensor to the maximum length\n",
    "    input_tensor = tf.keras.preprocessing.sequence.pad_sequences(input_tensor, \n",
    "                                                                 maxlen=max_length_inp,\n",
    "                                                                 padding='post')\n",
    "    \n",
    "    target_tensor = tf.keras.preprocessing.sequence.pad_sequences(target_tensor, \n",
    "                                                                  maxlen=max_length_tar, \n",
    "                                                                  padding='post')\n",
    "    \n",
    "    return input_tensor, target_tensor, punjabi_lang, english_lang, max_length_inp, max_length_tar"
   ]
  },
  {
   "cell_type": "code",
   "execution_count": 77,
   "metadata": {
    "id": "3eEtPk33R4B8"
   },
   "outputs": [],
   "source": [
    "punjabi_tensor, english_tensor, english_lang, punjabi_lang, max_length_english, max_length_hindi = load_dataset(final_punjabi_words,final_english_words)"
   ]
  },
  {
   "cell_type": "code",
   "execution_count": 78,
   "metadata": {
    "colab": {
     "base_uri": "https://localhost:8080/"
    },
    "id": "1DVmet0vEHWK",
    "outputId": "2824e87c-cf7b-4711-ce39-6aae772f25be"
   },
   "outputs": [
    {
     "data": {
      "text/plain": [
       "array([ 2,  4, 58, 21, 14, 58, 41, 55, 44,  1,  0,  0,  0,  0,  0,  0,  0,\n",
       "        0,  0,  0,  0,  0,  0,  0], dtype=int32)"
      ]
     },
     "execution_count": 78,
     "metadata": {},
     "output_type": "execute_result"
    }
   ],
   "source": [
    "punjabi_tensor[0]"
   ]
  },
  {
   "cell_type": "markdown",
   "metadata": {
    "id": "yFK-axdfcMUL"
   },
   "source": [
    "**Saving the tensors model**"
   ]
  },
  {
   "cell_type": "code",
   "execution_count": 6,
   "metadata": {
    "id": "JHJxEPgqR4Hl"
   },
   "outputs": [],
   "source": [
    "# create lookup tables for English and Punjabi data\n",
    "\n",
    "punjabi_vocab_to_int, punjabi_int_to_vocab = punjabi_lang.word2idx,punjabi_lang.idx2word\n",
    "English_vocab_to_int, english_int_to_vocab = english_lang.word2idx,english_lang.idx2word"
   ]
  },
  {
   "cell_type": "markdown",
   "metadata": {
    "id": "gmsgXwBgdgSf"
   },
   "source": [
    "**Model Building**"
   ]
  },
  {
   "cell_type": "markdown",
   "metadata": {
    "id": "PS60ojyhdgYj"
   },
   "source": [
    "## Split the data into train and test"
   ]
  },
  {
   "cell_type": "code",
   "execution_count": 79,
   "metadata": {
    "id": "_pNaSSGcR4T6"
   },
   "outputs": [],
   "source": [
    "punjabi_tensor_train, punjabi_tensor_test, english_tensor_train,english_tensor_test = train_test_split(punjabi_tensor, english_tensor, test_size=0.10,random_state=42)"
   ]
  },
  {
   "cell_type": "code",
   "execution_count": 80,
   "metadata": {
    "colab": {
     "base_uri": "https://localhost:8080/"
    },
    "id": "MFbsAWRvd2jW",
    "outputId": "97a0f6ad-a3f6-4e79-ca48-198be4ee705e"
   },
   "outputs": [
    {
     "data": {
      "text/plain": [
       "(463249, 51473, 463249, 51473)"
      ]
     },
     "execution_count": 80,
     "metadata": {},
     "output_type": "execute_result"
    }
   ],
   "source": [
    "len(punjabi_tensor_train),len(punjabi_tensor_test),len(english_tensor_train),len(english_tensor_test)"
   ]
  },
  {
   "cell_type": "code",
   "execution_count": 81,
   "metadata": {
    "colab": {
     "base_uri": "https://localhost:8080/"
    },
    "id": "P2RTkI_8d9e5",
    "outputId": "00f007d5-0cba-4745-ca22-aeded0b60739"
   },
   "outputs": [
    {
     "data": {
      "text/plain": [
       "(24, 29)"
      ]
     },
     "execution_count": 81,
     "metadata": {},
     "output_type": "execute_result"
    }
   ],
   "source": [
    "max_length_punjabi,max_length_english"
   ]
  },
  {
   "cell_type": "markdown",
   "metadata": {
    "id": "aSIKFdUTeH7F"
   },
   "source": [
    "# Defining Bidirectional LSTM Models for Neural Machine Traslation"
   ]
  },
  {
   "cell_type": "code",
   "execution_count": 82,
   "metadata": {
    "id": "1buqz0tCeESZ"
   },
   "outputs": [],
   "source": [
    "from keras.models import Model,Sequential\n",
    "from keras.layers import LSTM, Embedding, Dense, TimeDistributed, Dropout, Bidirectional,RepeatVector,add\n",
    "from tensorflow.keras.callbacks import ModelCheckpoint, EarlyStopping"
   ]
  },
  {
   "cell_type": "markdown",
   "metadata": {
    "id": "4xKiYP7GeQrQ"
   },
   "source": [
    "## Setting-up Hyper parameters"
   ]
  },
  {
   "cell_type": "code",
   "execution_count": 14,
   "metadata": {
    "colab": {
     "base_uri": "https://localhost:8080/"
    },
    "id": "V_ibRWXseLMW",
    "outputId": "f00b7c42-79ac-42f7-df2e-a0b46bbabead"
   },
   "outputs": [
    {
     "data": {
      "text/plain": [
       "(61, 35)"
      ]
     },
     "execution_count": 14,
     "metadata": {},
     "output_type": "execute_result"
    }
   ],
   "source": [
    "punjabi_vocab_size = len(punjabi_vocab_to_int)+1\n",
    "english_vocab_size = len(English_vocab_to_int)+1\n",
    "\n",
    "punjabi_vocab_size,english_vocab_size"
   ]
  },
  {
   "cell_type": "code",
   "execution_count": 83,
   "metadata": {
    "colab": {
     "base_uri": "https://localhost:8080/"
    },
    "id": "_wbt8NnvecNp",
    "outputId": "fe218d8f-df59-45a8-a402-94b56950c259"
   },
   "outputs": [
    {
     "data": {
      "text/plain": [
       "(514722, 24)"
      ]
     },
     "execution_count": 83,
     "metadata": {},
     "output_type": "execute_result"
    }
   ],
   "source": [
    "punjabi_tensor.shape"
   ]
  },
  {
   "cell_type": "code",
   "execution_count": 84,
   "metadata": {
    "colab": {
     "base_uri": "https://localhost:8080/"
    },
    "id": "mVKAj1odepEs",
    "outputId": "1b32f519-07a0-4a76-9d66-d44db21b740e"
   },
   "outputs": [
    {
     "data": {
      "text/plain": [
       "(514722, 29)"
      ]
     },
     "execution_count": 84,
     "metadata": {},
     "output_type": "execute_result"
    }
   ],
   "source": [
    "english_tensor.shape"
   ]
  },
  {
   "cell_type": "markdown",
   "metadata": {
    "id": "4jsbUURkewl0"
   },
   "source": [
    "# Defining Model"
   ]
  },
  {
   "cell_type": "code",
   "execution_count": 127,
   "metadata": {
    "id": "PoG3rvCXesFd"
   },
   "outputs": [],
   "source": [
    "def model_final(input_shape, output_sequence_length, punjabi_vocab_size, english_vocab_size):\n",
    "    \"\"\"\n",
    "    Build and train a model that incorporates embedding, encoder-decoder, and bidirectional RNN\n",
    "    :param input_shape: Tuple of input shape\n",
    "    :param output_sequence_length: Length of output sequence\n",
    "    :param punjabi_vocab_size: Number of unique punjabi words in the dataset\n",
    "    :param english_vocab_size: Number of unique english words in the dataset\n",
    "    :return: Keras model built, but not trained\n",
    "    \"\"\"\n",
    "    # Hyperparameters\n",
    "    learning_rate = 0.003\n",
    "    \n",
    "    # Build the layers    \n",
    "    model = Sequential()\n",
    "    # Embedding\n",
    "    model.add(Embedding(punjabi_vocab_size, 128, input_length=input_shape[1],\n",
    "                         input_shape=input_shape[1:]))\n",
    "    # Encoder\n",
    "    model.add(Bidirectional(LSTM(128)))\n",
    "    model.add(RepeatVector(output_sequence_length))\n",
    "    # Decoder\n",
    "    model.add(Bidirectional(LSTM(128, return_sequences=True)))\n",
    "    model.add(Bidirectional(LSTM(128, return_sequences=True)))\n",
    "    model.add(TimeDistributed(Dense(512, activation='relu')))\n",
    "    model.add(Dropout(0.5))\n",
    "    model.add(TimeDistributed(Dense(english_vocab_size, activation='softmax')))\n",
    "    \n",
    "    model.compile(loss='sparse_categorical_crossentropy',\n",
    "                  optimizer=keras.optimizers.RMSprop(learning_rate),\n",
    "                  metrics=['accuracy'])\n",
    "    return model"
   ]
  },
  {
   "cell_type": "code",
   "execution_count": 86,
   "metadata": {
    "colab": {
     "base_uri": "https://localhost:8080/"
    },
    "id": "6tDJG-iGe0tL",
    "outputId": "079844b3-134b-4575-a6b9-90e8a7270096"
   },
   "outputs": [
    {
     "name": "stdout",
     "output_type": "stream",
     "text": [
      "(463249, 24)\n",
      "(463249, 29)\n"
     ]
    }
   ],
   "source": [
    "print(punjabi_tensor_train.shape)\n",
    "print(english_tensor_train.shape)"
   ]
  },
  {
   "cell_type": "code",
   "execution_count": 128,
   "metadata": {
    "colab": {
     "base_uri": "https://localhost:8080/"
    },
    "id": "LjX04DMHfMso",
    "outputId": "7ed94e95-dc40-4af1-8c73-c1a63e549278"
   },
   "outputs": [
    {
     "name": "stdout",
     "output_type": "stream",
     "text": [
      "Model: \"sequential_8\"\n",
      "_________________________________________________________________\n",
      " Layer (type)                Output Shape              Param #   \n",
      "=================================================================\n",
      " embedding_8 (Embedding)     (None, 24, 128)           7808      \n",
      "                                                                 \n",
      " bidirectional_24 (Bidirecti  (None, 256)              263168    \n",
      " onal)                                                           \n",
      "                                                                 \n",
      " repeat_vector_8 (RepeatVect  (None, 29, 256)          0         \n",
      " or)                                                             \n",
      "                                                                 \n",
      " bidirectional_25 (Bidirecti  (None, 29, 256)          394240    \n",
      " onal)                                                           \n",
      "                                                                 \n",
      " bidirectional_26 (Bidirecti  (None, 29, 256)          394240    \n",
      " onal)                                                           \n",
      "                                                                 \n",
      " time_distributed_16 (TimeDi  (None, 29, 512)          131584    \n",
      " stributed)                                                      \n",
      "                                                                 \n",
      " dropout_8 (Dropout)         (None, 29, 512)           0         \n",
      "                                                                 \n",
      " time_distributed_17 (TimeDi  (None, 29, 35)           17955     \n",
      " stributed)                                                      \n",
      "                                                                 \n",
      "=================================================================\n",
      "Total params: 1,208,995\n",
      "Trainable params: 1,208,995\n",
      "Non-trainable params: 0\n",
      "_________________________________________________________________\n"
     ]
    }
   ],
   "source": [
    "\n",
    "model = model_final(punjabi_tensor_train.shape,english_tensor_train.shape[1],punjabi_vocab_size,english_vocab_size)\n",
    "model.summary()"
   ]
  },
  {
   "cell_type": "markdown",
   "metadata": {
    "id": "X7llit_Efbcg"
   },
   "source": [
    "## Fitting The Model"
   ]
  },
  {
   "cell_type": "code",
   "execution_count": 129,
   "metadata": {
    "colab": {
     "base_uri": "https://localhost:8080/"
    },
    "id": "14pHyFnSfVHA",
    "outputId": "d9c01003-37a4-49f7-dd50-11bccdfc593b"
   },
   "outputs": [
    {
     "name": "stdout",
     "output_type": "stream",
     "text": [
      "Epoch 1/30\n",
      "723/724 [============================>.] - ETA: 0s - loss: 0.9104 - accuracy: 0.7445\n",
      "Epoch 1: val_loss improved from inf to 0.68910, saving model to /content/drive/MyDrive/Punjabi transliteration/NMT_model.hdf5\n",
      "724/724 [==============================] - 58s 64ms/step - loss: 0.9101 - accuracy: 0.7446 - val_loss: 0.6891 - val_accuracy: 0.7853\n",
      "Epoch 2/30\n",
      "723/724 [============================>.] - ETA: 0s - loss: 0.6041 - accuracy: 0.8073\n",
      "Epoch 2: val_loss improved from 0.68910 to 0.47547, saving model to /content/drive/MyDrive/Punjabi transliteration/NMT_model.hdf5\n",
      "724/724 [==============================] - 40s 55ms/step - loss: 0.6040 - accuracy: 0.8073 - val_loss: 0.4755 - val_accuracy: 0.8418\n",
      "Epoch 3/30\n",
      "723/724 [============================>.] - ETA: 0s - loss: 0.4380 - accuracy: 0.8496\n",
      "Epoch 3: val_loss improved from 0.47547 to 0.37349, saving model to /content/drive/MyDrive/Punjabi transliteration/NMT_model.hdf5\n",
      "724/724 [==============================] - 40s 55ms/step - loss: 0.4379 - accuracy: 0.8496 - val_loss: 0.3735 - val_accuracy: 0.8661\n",
      "Epoch 4/30\n",
      "723/724 [============================>.] - ETA: 0s - loss: 0.3493 - accuracy: 0.8775\n",
      "Epoch 4: val_loss improved from 0.37349 to 0.29888, saving model to /content/drive/MyDrive/Punjabi transliteration/NMT_model.hdf5\n",
      "724/724 [==============================] - 41s 57ms/step - loss: 0.3492 - accuracy: 0.8775 - val_loss: 0.2989 - val_accuracy: 0.8944\n",
      "Epoch 5/30\n",
      "723/724 [============================>.] - ETA: 0s - loss: 0.3015 - accuracy: 0.8955\n",
      "Epoch 5: val_loss improved from 0.29888 to 0.25785, saving model to /content/drive/MyDrive/Punjabi transliteration/NMT_model.hdf5\n",
      "724/724 [==============================] - 40s 56ms/step - loss: 0.3015 - accuracy: 0.8955 - val_loss: 0.2579 - val_accuracy: 0.9108\n",
      "Epoch 6/30\n",
      "723/724 [============================>.] - ETA: 0s - loss: 0.2719 - accuracy: 0.9071\n",
      "Epoch 6: val_loss improved from 0.25785 to 0.24413, saving model to /content/drive/MyDrive/Punjabi transliteration/NMT_model.hdf5\n",
      "724/724 [==============================] - 40s 56ms/step - loss: 0.2719 - accuracy: 0.9071 - val_loss: 0.2441 - val_accuracy: 0.9154\n",
      "Epoch 7/30\n",
      "723/724 [============================>.] - ETA: 0s - loss: 0.2523 - accuracy: 0.9145\n",
      "Epoch 7: val_loss improved from 0.24413 to 0.22623, saving model to /content/drive/MyDrive/Punjabi transliteration/NMT_model.hdf5\n",
      "724/724 [==============================] - 40s 56ms/step - loss: 0.2523 - accuracy: 0.9145 - val_loss: 0.2262 - val_accuracy: 0.9228\n",
      "Epoch 8/30\n",
      "723/724 [============================>.] - ETA: 0s - loss: 0.2386 - accuracy: 0.9199\n",
      "Epoch 8: val_loss improved from 0.22623 to 0.21259, saving model to /content/drive/MyDrive/Punjabi transliteration/NMT_model.hdf5\n",
      "724/724 [==============================] - 41s 57ms/step - loss: 0.2385 - accuracy: 0.9199 - val_loss: 0.2126 - val_accuracy: 0.9287\n",
      "Epoch 9/30\n",
      "723/724 [============================>.] - ETA: 0s - loss: 0.2282 - accuracy: 0.9240\n",
      "Epoch 9: val_loss improved from 0.21259 to 0.20860, saving model to /content/drive/MyDrive/Punjabi transliteration/NMT_model.hdf5\n",
      "724/724 [==============================] - 42s 59ms/step - loss: 0.2282 - accuracy: 0.9240 - val_loss: 0.2086 - val_accuracy: 0.9305\n",
      "Epoch 10/30\n",
      "723/724 [============================>.] - ETA: 0s - loss: 0.2190 - accuracy: 0.9274\n",
      "Epoch 10: val_loss did not improve from 0.20860\n",
      "724/724 [==============================] - 40s 55ms/step - loss: 0.2190 - accuracy: 0.9274 - val_loss: 0.2297 - val_accuracy: 0.9203\n",
      "Epoch 11/30\n",
      "723/724 [============================>.] - ETA: 0s - loss: 0.2117 - accuracy: 0.9300\n",
      "Epoch 11: val_loss improved from 0.20860 to 0.19886, saving model to /content/drive/MyDrive/Punjabi transliteration/NMT_model.hdf5\n",
      "724/724 [==============================] - 40s 55ms/step - loss: 0.2117 - accuracy: 0.9301 - val_loss: 0.1989 - val_accuracy: 0.9336\n",
      "Epoch 12/30\n",
      "723/724 [============================>.] - ETA: 0s - loss: 0.2056 - accuracy: 0.9322\n",
      "Epoch 12: val_loss improved from 0.19886 to 0.19493, saving model to /content/drive/MyDrive/Punjabi transliteration/NMT_model.hdf5\n",
      "724/724 [==============================] - 40s 55ms/step - loss: 0.2056 - accuracy: 0.9322 - val_loss: 0.1949 - val_accuracy: 0.9353\n",
      "Epoch 13/30\n",
      "723/724 [============================>.] - ETA: 0s - loss: 0.2002 - accuracy: 0.9343\n",
      "Epoch 13: val_loss improved from 0.19493 to 0.19363, saving model to /content/drive/MyDrive/Punjabi transliteration/NMT_model.hdf5\n",
      "724/724 [==============================] - 41s 57ms/step - loss: 0.2003 - accuracy: 0.9343 - val_loss: 0.1936 - val_accuracy: 0.9352\n",
      "Epoch 14/30\n",
      "723/724 [============================>.] - ETA: 0s - loss: 0.1953 - accuracy: 0.9360\n",
      "Epoch 14: val_loss improved from 0.19363 to 0.18893, saving model to /content/drive/MyDrive/Punjabi transliteration/NMT_model.hdf5\n",
      "724/724 [==============================] - 40s 55ms/step - loss: 0.1953 - accuracy: 0.9360 - val_loss: 0.1889 - val_accuracy: 0.9377\n",
      "Epoch 15/30\n",
      "723/724 [============================>.] - ETA: 0s - loss: 0.1913 - accuracy: 0.9375\n",
      "Epoch 15: val_loss improved from 0.18893 to 0.18828, saving model to /content/drive/MyDrive/Punjabi transliteration/NMT_model.hdf5\n",
      "724/724 [==============================] - 40s 55ms/step - loss: 0.1913 - accuracy: 0.9375 - val_loss: 0.1883 - val_accuracy: 0.9379\n",
      "Epoch 16/30\n",
      "723/724 [============================>.] - ETA: 0s - loss: 0.1871 - accuracy: 0.9390\n",
      "Epoch 16: val_loss did not improve from 0.18828\n",
      "724/724 [==============================] - 39s 55ms/step - loss: 0.1872 - accuracy: 0.9390 - val_loss: 0.2044 - val_accuracy: 0.9320\n",
      "Epoch 17/30\n",
      "723/724 [============================>.] - ETA: 0s - loss: 0.1839 - accuracy: 0.9402\n",
      "Epoch 17: val_loss improved from 0.18828 to 0.18196, saving model to /content/drive/MyDrive/Punjabi transliteration/NMT_model.hdf5\n",
      "724/724 [==============================] - 40s 55ms/step - loss: 0.1839 - accuracy: 0.9402 - val_loss: 0.1820 - val_accuracy: 0.9403\n",
      "Epoch 18/30\n",
      "723/724 [============================>.] - ETA: 0s - loss: 0.1804 - accuracy: 0.9413\n",
      "Epoch 18: val_loss improved from 0.18196 to 0.17870, saving model to /content/drive/MyDrive/Punjabi transliteration/NMT_model.hdf5\n",
      "724/724 [==============================] - 42s 57ms/step - loss: 0.1804 - accuracy: 0.9413 - val_loss: 0.1787 - val_accuracy: 0.9417\n",
      "Epoch 19/30\n",
      "723/724 [============================>.] - ETA: 0s - loss: 0.1772 - accuracy: 0.9425\n",
      "Epoch 19: val_loss did not improve from 0.17870\n",
      "724/724 [==============================] - 40s 55ms/step - loss: 0.1772 - accuracy: 0.9425 - val_loss: 0.1841 - val_accuracy: 0.9392\n",
      "Epoch 20/30\n",
      "723/724 [============================>.] - ETA: 0s - loss: 0.1745 - accuracy: 0.9434\n",
      "Epoch 20: val_loss improved from 0.17870 to 0.17852, saving model to /content/drive/MyDrive/Punjabi transliteration/NMT_model.hdf5\n",
      "724/724 [==============================] - 42s 58ms/step - loss: 0.1745 - accuracy: 0.9434 - val_loss: 0.1785 - val_accuracy: 0.9417\n",
      "Epoch 21/30\n",
      "724/724 [==============================] - ETA: 0s - loss: 0.1719 - accuracy: 0.9443\n",
      "Epoch 21: val_loss improved from 0.17852 to 0.17628, saving model to /content/drive/MyDrive/Punjabi transliteration/NMT_model.hdf5\n",
      "724/724 [==============================] - 42s 57ms/step - loss: 0.1719 - accuracy: 0.9443 - val_loss: 0.1763 - val_accuracy: 0.9425\n",
      "Epoch 22/30\n",
      "723/724 [============================>.] - ETA: 0s - loss: 0.1692 - accuracy: 0.9451\n",
      "Epoch 22: val_loss did not improve from 0.17628\n",
      "724/724 [==============================] - 39s 55ms/step - loss: 0.1692 - accuracy: 0.9451 - val_loss: 0.1773 - val_accuracy: 0.9427\n",
      "Epoch 23/30\n",
      "723/724 [============================>.] - ETA: 0s - loss: 0.1668 - accuracy: 0.9460\n",
      "Epoch 23: val_loss improved from 0.17628 to 0.17436, saving model to /content/drive/MyDrive/Punjabi transliteration/NMT_model.hdf5\n",
      "724/724 [==============================] - 40s 55ms/step - loss: 0.1668 - accuracy: 0.9460 - val_loss: 0.1744 - val_accuracy: 0.9433\n",
      "Epoch 24/30\n",
      "723/724 [============================>.] - ETA: 0s - loss: 0.1646 - accuracy: 0.9467\n",
      "Epoch 24: val_loss did not improve from 0.17436\n",
      "724/724 [==============================] - 39s 54ms/step - loss: 0.1646 - accuracy: 0.9467 - val_loss: 0.1784 - val_accuracy: 0.9422\n",
      "Epoch 25/30\n",
      "723/724 [============================>.] - ETA: 0s - loss: 0.1629 - accuracy: 0.9472\n",
      "Epoch 25: val_loss did not improve from 0.17436\n",
      "Restoring model weights from the end of the best epoch: 23.\n",
      "724/724 [==============================] - 39s 54ms/step - loss: 0.1629 - accuracy: 0.9472 - val_loss: 0.1817 - val_accuracy: 0.9418\n",
      "Epoch 25: early stopping\n"
     ]
    }
   ],
   "source": [
    "checkpoint = ModelCheckpoint('/content/drive/MyDrive/Punjabi transliteration/NMT_model.hdf5', monitor='val_loss', verbose=1, save_best_only=True, mode='min')\n",
    "early_stopping = EarlyStopping(monitor='val_accuracy',patience=2,verbose = 1, mode ='max',restore_best_weights = True)\n",
    "\n",
    "\n",
    "history = model.fit(punjabi_tensor_train, english_tensor_train, batch_size=512,validation_split=0.2,epochs=30,callbacks = [checkpoint,early_stopping])"
   ]
  },
  {
   "cell_type": "markdown",
   "metadata": {
    "id": "M3tVlN9pljSj"
   },
   "source": [
    "## Plotting Some graph"
   ]
  },
  {
   "cell_type": "code",
   "execution_count": 130,
   "metadata": {
    "colab": {
     "base_uri": "https://localhost:8080/",
     "height": 282
    },
    "id": "Xwd6DWaUlhh-",
    "outputId": "31b2f4b9-0193-4f16-bd68-d8a2e8203b1e"
   },
   "outputs": [
    {
     "data": {
      "image/png": "[encoded data removed]",
      "text/plain": [
       "<Figure size 432x288 with 1 Axes>"
      ]
     },
     "metadata": {
      "needs_background": "light"
     },
     "output_type": "display_data"
    },
    {
     "data": {
      "text/plain": [
       "<Figure size 432x288 with 0 Axes>"
      ]
     },
     "metadata": {},
     "output_type": "display_data"
    }
   ],
   "source": [
    "plt.plot(history.history['loss'])\n",
    "plt.plot(history.history['val_loss'])\n",
    "plt.legend(['train','validation'])\n",
    "plt.show()\n",
    "plt.savefig('trai_validation_loss')"
   ]
  },
  {
   "cell_type": "code",
   "execution_count": 131,
   "metadata": {
    "colab": {
     "base_uri": "https://localhost:8080/",
     "height": 312
    },
    "id": "T7Mv_0Aplhr2",
    "outputId": "179a39f4-25a3-4f4b-fee6-ab2cacabe061"
   },
   "outputs": [
    {
     "data": {
      "image/png": "[encoded data removed]",
      "text/plain": [
       "<Figure size 432x288 with 1 Axes>"
      ]
     },
     "metadata": {
      "needs_background": "light"
     },
     "output_type": "display_data"
    },
    {
     "data": {
      "text/plain": [
       "<Figure size 432x288 with 0 Axes>"
      ]
     },
     "metadata": {},
     "output_type": "display_data"
    }
   ],
   "source": [
    "from matplotlib import pyplot as plt\n",
    "plt.plot(history.history['accuracy'])\n",
    "plt.plot(history.history['val_accuracy'])\n",
    "plt.title('model accuracy')\n",
    "plt.ylabel('accuracy')\n",
    "plt.xlabel('epoch')\n",
    "plt.legend(['train', 'val'], loc='upper left')\n",
    "plt.show()\n",
    "plt.savefig('trai_validation_accuracy')"
   ]
  },
  {
   "cell_type": "markdown",
   "metadata": {
    "id": "8ppt-vclKZoi"
   },
   "source": [
    "**Prediction**"
   ]
  },
  {
   "cell_type": "code",
   "execution_count": 132,
   "metadata": {
    "id": "xy33AP64lhuu"
   },
   "outputs": [],
   "source": [
    "from keras.models import load_model"
   ]
  },
  {
   "cell_type": "code",
   "execution_count": 133,
   "metadata": {
    "id": "zmM4Ka7nlhxr"
   },
   "outputs": [],
   "source": [
    "# Load the Best Model\n",
    "\n",
    "model = load_model('/content/drive/MyDrive/Punjabi transliteration/NMT_model.hdf5')"
   ]
  },
  {
   "cell_type": "code",
   "execution_count": 134,
   "metadata": {
    "colab": {
     "base_uri": "https://localhost:8080/"
    },
    "id": "keMmhGFSlh29",
    "outputId": "e19f9d19-60cc-4ea3-a5e7-c82d2316c387"
   },
   "outputs": [
    {
     "name": "stdout",
     "output_type": "stream",
     "text": [
      "1609/1609 [==============================] - 12s 6ms/step\n"
     ]
    }
   ],
   "source": [
    "english_tensor_predicted = np.argmax(model.predict(punjabi_tensor_test),axis=-1)"
   ]
  },
  {
   "cell_type": "code",
   "execution_count": 135,
   "metadata": {
    "colab": {
     "base_uri": "https://localhost:8080/"
    },
    "id": "XATn4cjeEmy7",
    "outputId": "fc0cb6c3-b519-418e-b8bf-05d69cbfe7ef"
   },
   "outputs": [
    {
     "data": {
      "text/plain": [
       "array([[ 2, 18,  8, ...,  0,  0,  0],\n",
       "       [ 2, 23, 16, ...,  0,  0,  0],\n",
       "       [ 2, 25, 12, ...,  0,  0,  0],\n",
       "       ...,\n",
       "       [ 2, 10, 22, ...,  0,  0,  0],\n",
       "       [ 2, 18, 16, ...,  0,  0,  0],\n",
       "       [ 2, 14,  8, ...,  0,  0,  0]])"
      ]
     },
     "execution_count": 135,
     "metadata": {},
     "output_type": "execute_result"
    }
   ],
   "source": [
    "english_tensor_predicted"
   ]
  },
  {
   "cell_type": "markdown",
   "metadata": {
    "id": "1DQeY2i1m5gx"
   },
   "source": [
    "Evaluating test function"
   ]
  },
  {
   "cell_type": "code",
   "execution_count": 136,
   "metadata": {
    "colab": {
     "base_uri": "https://localhost:8080/"
    },
    "id": "9f9qB3KrlzO5",
    "outputId": "02bf9e02-4e61-49fd-96a3-43d6c44d9150"
   },
   "outputs": [
    {
     "data": {
      "text/plain": [
       "0.9433858"
      ]
     },
     "execution_count": 136,
     "metadata": {},
     "output_type": "execute_result"
    }
   ],
   "source": [
    "m = tf.keras.metrics.Accuracy()\n",
    "m.update_state(english_tensor_test, english_tensor_predicted)\n",
    "m.result().numpy()"
   ]
  },
  {
   "cell_type": "code",
   "execution_count": 6,
   "metadata": {},
   "outputs": [],
   "source": [
    "from keras.models import load_model\n",
    "import tensorflow as tf\n",
    "import numpy as np\n",
    "import pickle \n",
    "\n",
    "model = load_model('pun_to_eng.hdf5') \n",
    "with open('punjabi_vocab_to_int.pickle', 'rb') as handle:\n",
    "    punjabi_vocab_to_int = pickle.load(handle)\n",
    "\n",
    "with open('english_int_to_vocab.pickle', 'rb') as handle:\n",
    "    english_int_to_vocab = pickle.load(handle)\n",
    "\n",
    "def predict(text):\n",
    "    word_pred = []\n",
    "    text=text.split()\n",
    "    text = ['@' + item + '#' for item in text]\n",
    "    for i in text:\n",
    "    # Convert the new input sentence to a tensor using the Word2Index objects\n",
    "        new_input_tensor = [[punjabi_vocab_to_int.get(char, punjabi_vocab_to_int['<pad>']) for char in i]]\n",
    "        # Pad the tensor to the maximum length\n",
    "        new_input_tensor = tf.keras.preprocessing.sequence.pad_sequences(new_input_tensor, maxlen=24, padding='post')\n",
    "        english_tensor_predicted = np.argmax(model.predict(new_input_tensor),axis=-1)\n",
    "    \n",
    "        for i in english_tensor_predicted[0]:\n",
    "           word_pred.append(english_int_to_vocab[i])\n",
    "    return word_pred"
   ]
  },
  {
   "cell_type": "code",
   "execution_count": 9,
   "metadata": {
    "colab": {
     "base_uri": "https://localhost:8080/"
    },
    "id": "olzAAswqL70Q",
    "outputId": "e18e4716-8a8d-431c-dee6-6ffc779d5c64"
   },
   "outputs": [
    {
     "name": "stdout",
     "output_type": "stream",
     "text": [
      "1/1 [==============================] - 6s 6s/step\n",
      "1/1 [==============================] - 0s 66ms/step\n",
      "1/1 [==============================] - 0s 53ms/step\n"
     ]
    }
   ],
   "source": [
    "s=predict(\"ਪੰਜਾਬੀ ਯੂਨੀਵਰਸਿਟੀ ਪਟਿਆਲਾ\")\n"
   ]
  },
  {
   "cell_type": "code",
   "execution_count": 10,
   "metadata": {
    "id": "kYpgC99dcY1X"
   },
   "outputs": [],
   "source": [
    "name = \"\"\n",
    "l=[]\n",
    "# Iterate over the characters in the list\n",
    "for char in s:\n",
    "    # Check if the character is \"@\"\n",
    "    if char == \"@\":\n",
    "        # Reset the name variable\n",
    "        name = \"\"\n",
    "    # Check if the character is \"#\"\n",
    "    elif char == \"#\":\n",
    "        # Print the stored name\n",
    "        l.append(name)\n",
    "        # print(name, end=\" \")\n",
    "    # If the character is not \"@\" or \"#\", add it to the name variable\n",
    "    else:\n",
    "        name += char"
   ]
  },
  {
   "cell_type": "code",
   "execution_count": 11,
   "metadata": {
    "colab": {
     "base_uri": "https://localhost:8080/"
    },
    "id": "Djdq77A6NWi8",
    "outputId": "938202f5-3a44-4c73-ac5f-b11ce96f94a2"
   },
   "outputs": [
    {
     "name": "stdout",
     "output_type": "stream",
     "text": [
      "panjabi university patiala\n"
     ]
    }
   ],
   "source": [
    "prev = None\n",
    "result = []\n",
    "for item in l:\n",
    "    if item != prev:\n",
    "        result.append(item)\n",
    "    prev = item\n",
    "print(\" \".join(result))"
   ]
  },
  {
   "cell_type": "code",
   "execution_count": null,
   "metadata": {
    "id": "AYkR6LZH87lH"
   },
   "outputs": [],
   "source": []
  }
 ],
 "metadata": {
  "accelerator": "GPU",
  "colab": {
   "provenance": []
  },
  "gpuClass": "standard",
  "kernelspec": {
   "display_name": "Python 3 (ipykernel)",
   "language": "python",
   "name": "python3"
  },
  "language_info": {
   "codemirror_mode": {
    "name": "ipython",
    "version": 3
   },
   "file_extension": ".py",
   "mimetype": "text/x-python",
   "name": "python",
   "nbconvert_exporter": "python",
   "pygments_lexer": "ipython3",
   "version": "3.9.13"
  }
 },
 "nbformat": 4,
 "nbformat_minor": 1
}
